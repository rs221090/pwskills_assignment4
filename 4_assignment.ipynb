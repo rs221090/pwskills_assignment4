{
 "cells": [
  {
   "cell_type": "markdown",
   "id": "93799c34-706c-4f51-8719-0a446d674c92",
   "metadata": {},
   "source": [
    "\n",
    "A class is blueprint of objects.it is like an admission form of universities which contain all the basic enquiries of students.every student enter its own information but the form is same for everyone.class is same as admission form.\n",
    "\n",
    "An object is called an instance of a class. For example, suppose admission form is a class then we can create objects like form1,form2,form3 etc from class\n",
    "example of class and object is given below\n"
   ]
  },
  {
   "cell_type": "code",
   "execution_count": 6,
   "id": "66082ad0-cc01-4299-9027-a981bb8bc59e",
   "metadata": {},
   "outputs": [],
   "source": [
    "class student:\n",
    "    def __init__(self,name,age,course):\n",
    "        self.age = age\n",
    "        self.course = course \n",
    "        self.name = name\n",
    "        "
   ]
  },
  {
   "cell_type": "code",
   "execution_count": 7,
   "id": "b00d0d88-573c-459c-814d-740dcbc45867",
   "metadata": {},
   "outputs": [
    {
     "data": {
      "text/plain": [
       "'Data science masters'"
      ]
     },
     "execution_count": 7,
     "metadata": {},
     "output_type": "execute_result"
    }
   ],
   "source": [
    "student1 = student(\"Ruchi\",32,\"Data science masters\")\n",
    "student1.course"
   ]
  },
  {
   "cell_type": "markdown",
   "id": "f1cbb657-5959-4a9f-a5c1-b78107f3d4e0",
   "metadata": {},
   "source": [
    "Q2. Name the four pillars of OOPs."
   ]
  },
  {
   "cell_type": "markdown",
   "id": "aedae3ff-bf78-4da1-ba5d-a2b1803adf64",
   "metadata": {},
   "source": [
    "The Four Pillars of Object Oriented Programming\n",
    "1 Abstraction.\n",
    "2 Encapsulation.\n",
    "3 Inheritance.\n",
    "4 Polymorphism."
   ]
  },
  {
   "cell_type": "markdown",
   "id": "43d7d799-4520-4697-ae1e-0d5eec93cc82",
   "metadata": {},
   "source": [
    "Q3. Explain why the init() function is used. Give a suitable example."
   ]
  },
  {
   "cell_type": "raw",
   "id": "6810f299-8455-42d9-98e0-3d8784dd63d3",
   "metadata": {},
   "source": [
    " The __init__ function is called every time an object is created from a class. The __init__ method lets the class initialize the object's attributes and serves no other purpose."
   ]
  },
  {
   "cell_type": "raw",
   "id": "381b39ca-9db7-4b7c-a126-1442c2a9dd28",
   "metadata": {},
   "source": [
    "the __init__ function is used to initialize the object attributes as soon as it formed\n",
    "this function is called evertime an object is created"
   ]
  },
  {
   "cell_type": "code",
   "execution_count": 9,
   "id": "f663fa7d-7aa1-461f-bf9d-cd323be29c41",
   "metadata": {},
   "outputs": [],
   "source": [
    "class house:\n",
    "    def __init__(self,bedrooms,washrooms,gallery):\n",
    "        self.bedrooms = bedrooms\n",
    "        self.washrooms = washrooms\n",
    "        self.gallery = gallery"
   ]
  },
  {
   "cell_type": "code",
   "execution_count": 11,
   "id": "1c090e25-48f7-4779-aa24-d3a979030710",
   "metadata": {},
   "outputs": [],
   "source": [
    "new_house = house(3,2,2)"
   ]
  },
  {
   "cell_type": "code",
   "execution_count": 12,
   "id": "feaefa43-cfa5-4603-a3a6-724b8b1a7230",
   "metadata": {},
   "outputs": [
    {
     "data": {
      "text/plain": [
       "3"
      ]
     },
     "execution_count": 12,
     "metadata": {},
     "output_type": "execute_result"
    }
   ],
   "source": [
    "new_house.bedrooms"
   ]
  },
  {
   "cell_type": "markdown",
   "id": "b8bebe2d-846d-47ec-ac63-78993ea0fc2e",
   "metadata": {},
   "source": [
    "Q4. Why self is used in OOPs?"
   ]
  },
  {
   "cell_type": "raw",
   "id": "e7e34dc1-4af1-4413-ab2a-49ccdf7b615c",
   "metadata": {},
   "source": [
    "self represent the instance or object of the class.it is used to access the attributes and methods of class"
   ]
  },
  {
   "cell_type": "markdown",
   "id": "9e2ba733-2d68-4348-891a-69fd14bffb9b",
   "metadata": {},
   "source": [
    "Q5. What is inheritance? Give an example for each type of inheritance."
   ]
  },
  {
   "cell_type": "raw",
   "id": "40be07a3-b80b-4ed4-a026-d03c3ca99249",
   "metadata": {},
   "source": [
    "Inheritance is the concept of driving new class from existing class\n",
    "using this we can inherit properties of existing class to a new class\n",
    "the new derived class is called child class and existing class is called parent class\n",
    "types of inheritance"
   ]
  },
  {
   "cell_type": "markdown",
   "id": "df749c37-72ad-46b5-87e2-bed1a4ab1c37",
   "metadata": {},
   "source": [
    "single inheritance"
   ]
  },
  {
   "cell_type": "raw",
   "id": "9fffb0eb-5418-48da-b3e6-5dad27366ee4",
   "metadata": {},
   "source": [
    "when child class derived from single parent class"
   ]
  },
  {
   "cell_type": "code",
   "execution_count": 15,
   "id": "0d3881af-2b5f-4325-a567-1a0862e9d38b",
   "metadata": {},
   "outputs": [],
   "source": [
    "class parent:\n",
    "    def class1(self):\n",
    "        print(\"this is from parent class\")\n",
    "class child(parent):\n",
    "    def class2(self):\n",
    "        print(\"this is from child class\")\n",
    "\n"
   ]
  },
  {
   "cell_type": "code",
   "execution_count": 16,
   "id": "f9d44595-6faf-4a76-9bdb-490157c19679",
   "metadata": {},
   "outputs": [],
   "source": [
    "single_inherit = child()"
   ]
  },
  {
   "cell_type": "code",
   "execution_count": 17,
   "id": "b4841603-ab68-4a46-bf74-c3da0c2589f1",
   "metadata": {},
   "outputs": [
    {
     "name": "stdout",
     "output_type": "stream",
     "text": [
      "this is from parent class\n"
     ]
    }
   ],
   "source": [
    "single_inherit.class1()"
   ]
  },
  {
   "cell_type": "code",
   "execution_count": 18,
   "id": "294ce8cf-1de3-47a6-ba05-2d18da49da29",
   "metadata": {},
   "outputs": [
    {
     "name": "stdout",
     "output_type": "stream",
     "text": [
      "this is from child class\n"
     ]
    }
   ],
   "source": [
    "single_inherit.class2()"
   ]
  },
  {
   "cell_type": "markdown",
   "id": "59f8d527-db61-4091-934e-f26291106f45",
   "metadata": {},
   "source": [
    "Multiple inheritance"
   ]
  },
  {
   "cell_type": "raw",
   "id": "8ba5127a-3eae-4329-bdd5-709f283d2c62",
   "metadata": {},
   "source": [
    "when child class derived or inherit from more than one parent class"
   ]
  },
  {
   "cell_type": "code",
   "execution_count": 19,
   "id": "8c6abf5c-7578-478d-bc6e-8f2ab909407c",
   "metadata": {},
   "outputs": [],
   "source": [
    "class parent1:\n",
    "    def class1(self):\n",
    "        print(\"this is from parent1 class\")\n",
    "        \n",
    "class parent2:\n",
    "    def class2(self):\n",
    "        print(\"this is from parent2 class\")\n",
    "        \n",
    "        \n",
    "class child(parent1,parent2):\n",
    "    def class3(self):\n",
    "        print(\"this is from child class\")\n",
    "\n"
   ]
  },
  {
   "cell_type": "code",
   "execution_count": 20,
   "id": "62136dba-325d-45eb-9608-7d7a6509dc67",
   "metadata": {},
   "outputs": [],
   "source": [
    "multiple_inherit = child()"
   ]
  },
  {
   "cell_type": "code",
   "execution_count": 23,
   "id": "83df2789-9c1f-4880-bfb7-bfa18c0a43dc",
   "metadata": {},
   "outputs": [
    {
     "name": "stdout",
     "output_type": "stream",
     "text": [
      "this is from parent1 class\n",
      "this is from parent2 class\n",
      "this is from child class\n"
     ]
    }
   ],
   "source": [
    "multiple_inherit.class1()\n",
    "multiple_inherit.class2()\n",
    "multiple_inherit.class3()\n"
   ]
  },
  {
   "cell_type": "markdown",
   "id": "c03cd2fc-ec81-405e-a3ef-a546d5436925",
   "metadata": {},
   "source": [
    "Multilevel inheritance"
   ]
  },
  {
   "cell_type": "raw",
   "id": "50cb8055-3ac4-46a2-99de-f095c4a3d8ff",
   "metadata": {},
   "source": [
    "we have one parent class and one child class which is derived from parent class and one grand child class which is derived from child class"
   ]
  },
  {
   "cell_type": "code",
   "execution_count": 28,
   "id": "99b5cd97-a91f-4f9d-a1b4-34ce55f28cfe",
   "metadata": {},
   "outputs": [],
   "source": [
    "class parent:\n",
    "    def class1(self):\n",
    "        print(\"this is from parent class\")\n",
    "        \n",
    "class child(parent):\n",
    "    def class2(self):\n",
    "        print(\"this is from child class\")\n",
    "        \n",
    "        \n",
    "class grandchild(child):\n",
    "    def class3(self):\n",
    "        print(\"this is from grandchild class\")\n",
    "        \n"
   ]
  },
  {
   "cell_type": "code",
   "execution_count": 29,
   "id": "ea3c21a7-7945-46c2-bde2-50bc8b7da294",
   "metadata": {},
   "outputs": [],
   "source": [
    "mulilevel_inherit = grandchild()"
   ]
  },
  {
   "cell_type": "code",
   "execution_count": 31,
   "id": "455185c7-1ebd-4371-bdce-a2149fe5025c",
   "metadata": {},
   "outputs": [
    {
     "name": "stdout",
     "output_type": "stream",
     "text": [
      "this is from parent class\n",
      "this is from child class\n",
      "this is from grandchild class\n"
     ]
    }
   ],
   "source": [
    "mulilevel_inherit.class1()\n",
    "mulilevel_inherit.class2()\n",
    "mulilevel_inherit.class3()"
   ]
  },
  {
   "cell_type": "markdown",
   "id": "eac4bc49-f0fe-4e53-a3cb-d9e2cd4d4716",
   "metadata": {},
   "source": [
    "Hierarchical inheritance"
   ]
  },
  {
   "cell_type": "raw",
   "id": "8442e5fb-9062-4ce1-a862-2e4c17d65d3c",
   "metadata": {},
   "source": [
    "we have more than one child class derived from single parent class"
   ]
  },
  {
   "cell_type": "code",
   "execution_count": 3,
   "id": "0631103c-0d11-422a-aa1d-9593b72f3694",
   "metadata": {},
   "outputs": [],
   "source": [
    "class parent:\n",
    "    def class1(self):\n",
    "        print(\"this is from parent class\")\n",
    "        \n",
    "class child1(parent):\n",
    "    def class2(self):\n",
    "        print(\"this is from child1 class\")\n",
    "        \n",
    "        \n",
    "class child2(parent):\n",
    "    def class3(self):\n",
    "        print(\"this is from child2 class\")\n",
    "        "
   ]
  },
  {
   "cell_type": "code",
   "execution_count": 8,
   "id": "c4c471ff-84a1-410e-9ff4-64cb63aa828d",
   "metadata": {},
   "outputs": [
    {
     "name": "stdout",
     "output_type": "stream",
     "text": [
      "this is from parent class\n"
     ]
    }
   ],
   "source": [
    "heirar_inherit1 = child1()\n",
    "heirar_inherit1.class1()"
   ]
  },
  {
   "cell_type": "code",
   "execution_count": 9,
   "id": "34f7bdf6-9937-44ae-9a14-f67326a5bf71",
   "metadata": {},
   "outputs": [
    {
     "name": "stdout",
     "output_type": "stream",
     "text": [
      "this is from parent class\n"
     ]
    }
   ],
   "source": [
    "heirar_inherit2 = child2()\n",
    "heirar_inherit2.class1()"
   ]
  },
  {
   "cell_type": "markdown",
   "id": "0876b46e-8142-4c2d-a3e9-8e8c691c03d4",
   "metadata": {},
   "source": [
    "Hybrid Inheritance"
   ]
  },
  {
   "cell_type": "raw",
   "id": "6dd103e2-24ec-4e36-bf86-9a5d82205cee",
   "metadata": {},
   "source": [
    "hybrid inheritance stisfies more than one type of inheritance.\n",
    "it is the combination of all above 4 inheritance"
   ]
  },
  {
   "cell_type": "code",
   "execution_count": 11,
   "id": "e0c5cdf2-3e14-429e-88bd-d655de5e2cc6",
   "metadata": {},
   "outputs": [],
   "source": [
    "class child:\n",
    "    def class1(self):\n",
    "        print(\"this is from child class\")\n",
    "        \n",
    "class child1(child):\n",
    "    def class2(self):\n",
    "        print(\"this is from child1 class\")\n",
    "        \n",
    "        \n",
    "class child2(child1,child):\n",
    "    def class3(self):\n",
    "        print(\"this is from child2 class\")\n",
    "        "
   ]
  },
  {
   "cell_type": "code",
   "execution_count": null,
   "id": "944f4cf9-a28e-4d76-a8c3-f2d3dbb4d6e4",
   "metadata": {},
   "outputs": [],
   "source": []
  }
 ],
 "metadata": {
  "kernelspec": {
   "display_name": "Python 3 (ipykernel)",
   "language": "python",
   "name": "python3"
  },
  "language_info": {
   "codemirror_mode": {
    "name": "ipython",
    "version": 3
   },
   "file_extension": ".py",
   "mimetype": "text/x-python",
   "name": "python",
   "nbconvert_exporter": "python",
   "pygments_lexer": "ipython3",
   "version": "3.10.8"
  }
 },
 "nbformat": 4,
 "nbformat_minor": 5
}
